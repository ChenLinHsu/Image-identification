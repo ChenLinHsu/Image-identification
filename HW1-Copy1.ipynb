{
 "cells": [
  {
   "cell_type": "code",
   "execution_count": 1,
   "id": "a7e7c02c",
   "metadata": {},
   "outputs": [],
   "source": [
    "import cv2\n",
    "import numpy as np\n",
    "import pandas as pd\n",
    "import matplotlib.pyplot as plt\n",
    "from imageio import imread\n",
    "import glob\n",
    "from IPython.display import clear_output\n",
    "import os  # 匯入os模組\n",
    "import sys # 匯入sys模組\n",
    "import pyodm # 匯入pyodm模組\n",
    "import matplotlib.pyplot as plt\n",
    "from PIL import Image\n",
    "import numpy as np\n",
    "from sklearn.metrics import accuracy_score"
   ]
  },
  {
   "cell_type": "code",
   "execution_count": 2,
   "id": "29563813",
   "metadata": {},
   "outputs": [
    {
     "name": "stdout",
     "output_type": "stream",
     "text": [
      "[[0.08661325 0.03387291 0.01317771 ... 0.         0.         0.        ]\n",
      " [0.02643868 0.12184548 0.10981804 ... 0.         0.         0.        ]\n",
      " [0.01820493 0.02306348 0.00778539 ... 0.         0.         0.        ]\n",
      " ...\n",
      " [0.         0.         0.00059613 ... 0.         0.         0.        ]\n",
      " [0.02573715 0.00413633 0.00166602 ... 0.         0.         0.        ]\n",
      " [0.00248319 0.01532307 0.04009436 ... 0.         0.         0.        ]]\n",
      "(63325, 512)\n",
      "(63325,)\n"
     ]
    }
   ],
   "source": [
    "def calculate_global_color_histogram(image):\n",
    "    # 將圖像轉換為HSV色彩空間\n",
    "    hsv_image = cv2.cvtColor(image, cv2.COLOR_RGB2HSV)\n",
    "    # 計算直方圖\n",
    "    hist = cv2.calcHist([hsv_image], [0, 1, 2], None, [8, 8, 8], [0, 256, 0, 256, 0, 256])\n",
    "    # 正規化直方圖\n",
    "    hist = cv2.normalize(hist, hist).flatten()\n",
    "    return hist\n",
    "\n",
    "labels = []\n",
    "features0=[]\n",
    "#for i in range(len(features1)):\n",
    "with open('train.txt', 'r') as file:\n",
    "    for line in file:\n",
    "        image_file_name, label = line.strip().split(' ')\n",
    "        image = Image.open(image_file_name)\n",
    "        image_data_0 = np.array(image)\n",
    "        labels_0=labels.append(label)\n",
    "        image_data_0=cv2.cvtColor(image_data_0, cv2.COLOR_RGB2BGR)\n",
    "        hist = calculate_global_color_histogram(image_data_0)\n",
    "        features0.append(hist)\n",
    "features0 = np.array(features0)\n",
    "labels_0 = np.array(labels)\n",
    "print(features0)\n",
    "print(features0.shape)\n",
    "print(labels_0.shape)"
   ]
  },
  {
   "cell_type": "code",
   "execution_count": 3,
   "id": "ec1225f6",
   "metadata": {},
   "outputs": [
    {
     "name": "stdout",
     "output_type": "stream",
     "text": [
      "[[0.         0.         0.         ... 0.         0.         0.        ]\n",
      " [0.23347905 0.00023636 0.         ... 0.         0.         0.        ]\n",
      " [0.23229899 0.09332479 0.0519429  ... 0.         0.         0.        ]\n",
      " ...\n",
      " [0.05101004 0.00850167 0.00297922 ... 0.         0.         0.        ]\n",
      " [0.00382916 0.00296625 0.00334377 ... 0.         0.         0.        ]\n",
      " [0.01941418 0.1143352  0.16475995 ... 0.         0.         0.        ]]\n",
      "(450, 512)\n",
      "(450,)\n"
     ]
    }
   ],
   "source": [
    "labels = []\n",
    "features1=[]\n",
    "#for i in range(len(features1)):\n",
    "with open('test.txt', 'r') as file:\n",
    "    for line in file:\n",
    "        image_file_name, label = line.strip().split(' ')\n",
    "        image = Image.open(image_file_name)\n",
    "        image_data_1 = np.array(image)\n",
    "        labels_1=labels.append(label)\n",
    "        \n",
    "        image_data_1=cv2.cvtColor(image_data_1, cv2.COLOR_RGB2BGR)\n",
    "        hist = calculate_global_color_histogram(image_data_1)\n",
    "        features1.append(hist)\n",
    "features1 = np.array(features1)\n",
    "labels_1=np.array(labels)\n",
    "print(features1)\n",
    "print(features1.shape)\n",
    "print(labels_1.shape)"
   ]
  },
  {
   "cell_type": "code",
   "execution_count": 4,
   "id": "bfd6a34f",
   "metadata": {},
   "outputs": [
    {
     "name": "stdout",
     "output_type": "stream",
     "text": [
      "[[1.1031483e-01 1.4827338e-01 1.9299753e-02 ... 0.0000000e+00\n",
      "  0.0000000e+00 0.0000000e+00]\n",
      " [3.4235074e-04 1.1126400e-02 3.4805660e-03 ... 0.0000000e+00\n",
      "  0.0000000e+00 0.0000000e+00]\n",
      " [2.4327262e-04 1.5751902e-02 2.1529626e-02 ... 0.0000000e+00\n",
      "  0.0000000e+00 0.0000000e+00]\n",
      " ...\n",
      " [5.2330565e-02 6.1886171e-03 3.7937881e-03 ... 0.0000000e+00\n",
      "  0.0000000e+00 0.0000000e+00]\n",
      " [0.0000000e+00 3.8903716e-04 0.0000000e+00 ... 0.0000000e+00\n",
      "  0.0000000e+00 0.0000000e+00]\n",
      " [7.6251788e-05 3.8125894e-05 1.1437768e-04 ... 0.0000000e+00\n",
      "  0.0000000e+00 0.0000000e+00]]\n",
      "(450, 512)\n",
      "(450,)\n"
     ]
    }
   ],
   "source": [
    "labels = []\n",
    "features2=[]\n",
    "#for i in range(len(features1)):\n",
    "with open('val.txt', 'r') as file:\n",
    "    for line in file:\n",
    "        image_file_name, label = line.strip().split(' ')\n",
    "        image = Image.open(image_file_name)\n",
    "        image_data_2 = np.array(image)\n",
    "        labels_2=labels.append(label)\n",
    "        image_data_2=cv2.cvtColor(image_data_2, cv2.COLOR_RGB2BGR)\n",
    "        hist = calculate_global_color_histogram(image_data_2)\n",
    "        features2.append(hist)\n",
    "features2 = np.array(features2)\n",
    "labels_2 = np.array(labels)\n",
    "print(features2)\n",
    "print(features2.shape)\n",
    "print(labels_2.shape)"
   ]
  },
  {
   "cell_type": "code",
   "execution_count": 5,
   "id": "0ae87160",
   "metadata": {},
   "outputs": [
    {
     "data": {
      "text/plain": [
       "SVC(C=1, gamma='auto', kernel='linear')"
      ]
     },
     "execution_count": 5,
     "metadata": {},
     "output_type": "execute_result"
    }
   ],
   "source": [
    "from sklearn import svm\n",
    "model = svm.SVC(kernel='linear', C=1, gamma='auto')\n",
    "model.fit(features0, labels_0)"
   ]
  },
  {
   "cell_type": "code",
   "execution_count": 6,
   "id": "f6092711",
   "metadata": {},
   "outputs": [
    {
     "name": "stdout",
     "output_type": "stream",
     "text": [
      "Training Accuracy: 0.1421239636794315\n",
      "Accuracy: 0.10222222222222223\n",
      "Validation Accuracy: 0.13111111111111112\n"
     ]
    }
   ],
   "source": [
    "train_predictions = model.predict(features0)\n",
    "# 計算訓練準確度\n",
    "train_accuracy_1 = accuracy_score(labels_0, train_predictions) \n",
    "print('Training Accuracy:', train_accuracy_1)\n",
    "y_pred = model.predict(features1)\n",
    "# 計算分類的準確率\n",
    "accuracy_1 = accuracy_score(labels_1, y_pred)\n",
    "print('Accuracy:', accuracy_1)\n",
    "val_preds = model.predict(features2)\n",
    "val_acc_1 = accuracy_score(labels_2, val_preds)\n",
    "print(\"Validation Accuracy:\", val_acc_1)"
   ]
  },
  {
   "cell_type": "code",
   "execution_count": 41,
   "id": "1b76763f",
   "metadata": {},
   "outputs": [
    {
     "name": "stdout",
     "output_type": "stream",
     "text": [
      "Accuracy: 0.14222222222222222\n",
      "Validation Accuracy: 0.1288888888888889\n"
     ]
    }
   ],
   "source": [
    "from sklearn.ensemble import RandomForestClassifier\n",
    "rf = RandomForestClassifier(n_estimators=100, max_depth=8, random_state=42)\n",
    "rf.fit(features0, labels_0)\n",
    "accuracy_2 = rf.score(features1,labels_1)\n",
    "print(\"Accuracy:\", accuracy_2)\n",
    "val_preds = rf.predict(features2)\n",
    "val_acc_2 = accuracy_score(labels_2, val_preds)\n",
    "print(\"Validation Accuracy:\", val_acc_2)"
   ]
  },
  {
   "cell_type": "code",
   "execution_count": 60,
   "id": "4d193dd7",
   "metadata": {},
   "outputs": [
    {
     "name": "stdout",
     "output_type": "stream",
     "text": [
      "Training Accuracy: 0.972238452427951\n",
      "Accuracy: 0.18666666666666668\n",
      "Validation Accuracy: 0.20444444444444446\n"
     ]
    }
   ],
   "source": [
    "import lightgbm as lgb\n",
    "model = lgb.LGBMClassifier(is_unbalance=True)\n",
    "model.fit(features0,labels_0)\n",
    "train_predictions = model.predict(features0)\n",
    "\n",
    "train_accuracy_3 = np.mean(train_predictions == labels_0)\n",
    "print('Training Accuracy:', train_accuracy_3)\n",
    "pred=model.predict(features1)\n",
    "accuracy_3=accuracy_score(labels_1, pred)\n",
    "print(\"Accuracy:\", accuracy_3)\n",
    "val_preds = model.predict(features2)\n",
    "val_acc_3 = accuracy_score(labels_2, val_preds)\n",
    "print(\"Validation Accuracy:\", val_acc_3)"
   ]
  },
  {
   "cell_type": "code",
   "execution_count": 45,
   "id": "0b21e276",
   "metadata": {},
   "outputs": [
    {
     "name": "stdout",
     "output_type": "stream",
     "text": [
      "0.08444444444444445\n",
      "Validation Accuracy: 0.10888888888888888\n"
     ]
    }
   ],
   "source": [
    "from sklearn import ensemble, preprocessing, metrics\n",
    "boost = ensemble.AdaBoostClassifier(n_estimators = 100)\n",
    "boost_fit = boost.fit(features0, labels_0)\n",
    "\n",
    "# 預測\n",
    "test_y_predicted = boost.predict(features1)\n",
    "\n",
    "# 績效\n",
    "accuracy_4 = metrics.accuracy_score(labels_1, test_y_predicted)\n",
    "print(accuracy_4)\n",
    "val_preds = boost.predict(features2)\n",
    "val_acc_4 = accuracy_score(labels_2, val_preds)\n",
    "print(\"Validation Accuracy:\", val_acc_4)"
   ]
  },
  {
   "cell_type": "code",
   "execution_count": 59,
   "id": "cece9be3",
   "metadata": {},
   "outputs": [
    {
     "name": "stdout",
     "output_type": "stream",
     "text": [
      "Learning rate set to 0.5\n",
      "0:\tlearn: 3.7628454\ttotal: 3.62s\tremaining: 5m 58s\n",
      "1:\tlearn: 3.6957501\ttotal: 7.34s\tremaining: 5m 59s\n",
      "2:\tlearn: 3.6268815\ttotal: 11.2s\tremaining: 6m 2s\n",
      "3:\tlearn: 3.5748805\ttotal: 15.1s\tremaining: 6m 3s\n",
      "4:\tlearn: 3.5245864\ttotal: 19.1s\tremaining: 6m 2s\n",
      "5:\tlearn: 3.4928999\ttotal: 22.9s\tremaining: 5m 58s\n",
      "6:\tlearn: 3.4633670\ttotal: 26.6s\tremaining: 5m 53s\n",
      "7:\tlearn: 3.4317445\ttotal: 30.3s\tremaining: 5m 48s\n",
      "8:\tlearn: 3.4047738\ttotal: 34.1s\tremaining: 5m 45s\n",
      "9:\tlearn: 3.3849323\ttotal: 37.9s\tremaining: 5m 40s\n",
      "10:\tlearn: 3.3613707\ttotal: 41.6s\tremaining: 5m 36s\n",
      "11:\tlearn: 3.3439557\ttotal: 45.4s\tremaining: 5m 32s\n",
      "12:\tlearn: 3.3250520\ttotal: 49.1s\tremaining: 5m 28s\n",
      "13:\tlearn: 3.3025861\ttotal: 52.9s\tremaining: 5m 25s\n",
      "14:\tlearn: 3.2843043\ttotal: 56.7s\tremaining: 5m 21s\n",
      "15:\tlearn: 3.2731835\ttotal: 1m\tremaining: 5m 18s\n",
      "16:\tlearn: 3.2592078\ttotal: 1m 4s\tremaining: 5m 14s\n",
      "17:\tlearn: 3.2479119\ttotal: 1m 8s\tremaining: 5m 11s\n",
      "18:\tlearn: 3.2313536\ttotal: 1m 12s\tremaining: 5m 7s\n",
      "19:\tlearn: 3.2169591\ttotal: 1m 16s\tremaining: 5m 4s\n",
      "20:\tlearn: 3.2016174\ttotal: 1m 19s\tremaining: 5m\n",
      "21:\tlearn: 3.1863382\ttotal: 1m 23s\tremaining: 4m 56s\n",
      "22:\tlearn: 3.1691803\ttotal: 1m 27s\tremaining: 4m 53s\n",
      "23:\tlearn: 3.1611675\ttotal: 1m 31s\tremaining: 4m 49s\n",
      "24:\tlearn: 3.1468935\ttotal: 1m 35s\tremaining: 4m 45s\n",
      "25:\tlearn: 3.1377579\ttotal: 1m 39s\tremaining: 4m 42s\n",
      "26:\tlearn: 3.1242337\ttotal: 1m 42s\tremaining: 4m 38s\n",
      "27:\tlearn: 3.1140063\ttotal: 1m 46s\tremaining: 4m 34s\n",
      "28:\tlearn: 3.0935841\ttotal: 1m 50s\tremaining: 4m 30s\n",
      "29:\tlearn: 3.0804302\ttotal: 1m 54s\tremaining: 4m 26s\n",
      "30:\tlearn: 3.0690957\ttotal: 1m 58s\tremaining: 4m 22s\n",
      "31:\tlearn: 3.0596157\ttotal: 2m 1s\tremaining: 4m 19s\n",
      "32:\tlearn: 3.0485984\ttotal: 2m 5s\tremaining: 4m 15s\n",
      "33:\tlearn: 3.0386929\ttotal: 2m 9s\tremaining: 4m 11s\n",
      "34:\tlearn: 3.0286407\ttotal: 2m 13s\tremaining: 4m 7s\n",
      "35:\tlearn: 3.0205011\ttotal: 2m 17s\tremaining: 4m 3s\n",
      "36:\tlearn: 3.0092833\ttotal: 2m 20s\tremaining: 3m 59s\n",
      "37:\tlearn: 2.9991968\ttotal: 2m 24s\tremaining: 3m 55s\n",
      "38:\tlearn: 2.9934920\ttotal: 2m 28s\tremaining: 3m 51s\n",
      "39:\tlearn: 2.9889668\ttotal: 2m 31s\tremaining: 3m 47s\n",
      "40:\tlearn: 2.9831417\ttotal: 2m 36s\tremaining: 3m 44s\n",
      "41:\tlearn: 2.9754368\ttotal: 2m 40s\tremaining: 3m 41s\n",
      "42:\tlearn: 2.9670606\ttotal: 2m 44s\tremaining: 3m 37s\n",
      "43:\tlearn: 2.9585977\ttotal: 2m 47s\tremaining: 3m 33s\n",
      "44:\tlearn: 2.9528655\ttotal: 2m 51s\tremaining: 3m 29s\n",
      "45:\tlearn: 2.9447151\ttotal: 2m 55s\tremaining: 3m 25s\n",
      "46:\tlearn: 2.9385275\ttotal: 2m 59s\tremaining: 3m 21s\n",
      "47:\tlearn: 2.9298660\ttotal: 3m 2s\tremaining: 3m 17s\n",
      "48:\tlearn: 2.9253716\ttotal: 3m 6s\tremaining: 3m 14s\n",
      "49:\tlearn: 2.9219544\ttotal: 3m 10s\tremaining: 3m 10s\n",
      "50:\tlearn: 2.9172669\ttotal: 3m 13s\tremaining: 3m 6s\n",
      "51:\tlearn: 2.9126939\ttotal: 3m 17s\tremaining: 3m 2s\n",
      "52:\tlearn: 2.9085286\ttotal: 3m 21s\tremaining: 2m 58s\n",
      "53:\tlearn: 2.9032040\ttotal: 3m 25s\tremaining: 2m 54s\n",
      "54:\tlearn: 2.8989290\ttotal: 3m 28s\tremaining: 2m 50s\n",
      "55:\tlearn: 2.8953856\ttotal: 3m 32s\tremaining: 2m 47s\n",
      "56:\tlearn: 2.8898541\ttotal: 3m 36s\tremaining: 2m 43s\n",
      "57:\tlearn: 2.8808717\ttotal: 3m 39s\tremaining: 2m 39s\n",
      "58:\tlearn: 2.8757524\ttotal: 3m 43s\tremaining: 2m 35s\n",
      "59:\tlearn: 2.8700854\ttotal: 3m 47s\tremaining: 2m 31s\n",
      "60:\tlearn: 2.8664526\ttotal: 3m 51s\tremaining: 2m 27s\n",
      "61:\tlearn: 2.8624252\ttotal: 3m 54s\tremaining: 2m 23s\n",
      "62:\tlearn: 2.8576017\ttotal: 3m 58s\tremaining: 2m 20s\n",
      "63:\tlearn: 2.8525901\ttotal: 4m 2s\tremaining: 2m 16s\n",
      "64:\tlearn: 2.8484247\ttotal: 4m 6s\tremaining: 2m 12s\n",
      "65:\tlearn: 2.8450753\ttotal: 4m 9s\tremaining: 2m 8s\n",
      "66:\tlearn: 2.8428758\ttotal: 4m 13s\tremaining: 2m 4s\n",
      "67:\tlearn: 2.8392731\ttotal: 4m 17s\tremaining: 2m\n",
      "68:\tlearn: 2.8338909\ttotal: 4m 20s\tremaining: 1m 57s\n",
      "69:\tlearn: 2.8306759\ttotal: 4m 24s\tremaining: 1m 53s\n",
      "70:\tlearn: 2.8251415\ttotal: 4m 28s\tremaining: 1m 49s\n",
      "71:\tlearn: 2.8211862\ttotal: 4m 31s\tremaining: 1m 45s\n",
      "72:\tlearn: 2.8196852\ttotal: 4m 35s\tremaining: 1m 41s\n",
      "73:\tlearn: 2.8155472\ttotal: 4m 39s\tremaining: 1m 38s\n",
      "74:\tlearn: 2.8118180\ttotal: 4m 42s\tremaining: 1m 34s\n",
      "75:\tlearn: 2.8076106\ttotal: 4m 46s\tremaining: 1m 30s\n",
      "76:\tlearn: 2.8009117\ttotal: 4m 50s\tremaining: 1m 26s\n",
      "77:\tlearn: 2.7978997\ttotal: 4m 54s\tremaining: 1m 22s\n",
      "78:\tlearn: 2.7931527\ttotal: 4m 57s\tremaining: 1m 19s\n",
      "79:\tlearn: 2.7858490\ttotal: 5m 1s\tremaining: 1m 15s\n",
      "80:\tlearn: 2.7821460\ttotal: 5m 5s\tremaining: 1m 11s\n",
      "81:\tlearn: 2.7780167\ttotal: 5m 9s\tremaining: 1m 7s\n",
      "82:\tlearn: 2.7734538\ttotal: 5m 12s\tremaining: 1m 4s\n",
      "83:\tlearn: 2.7697210\ttotal: 5m 16s\tremaining: 1m\n",
      "84:\tlearn: 2.7681930\ttotal: 5m 20s\tremaining: 56.5s\n",
      "85:\tlearn: 2.7662890\ttotal: 5m 24s\tremaining: 52.8s\n",
      "86:\tlearn: 2.7629500\ttotal: 5m 27s\tremaining: 49s\n",
      "87:\tlearn: 2.7598741\ttotal: 5m 31s\tremaining: 45.2s\n",
      "88:\tlearn: 2.7578226\ttotal: 5m 35s\tremaining: 41.4s\n",
      "89:\tlearn: 2.7528333\ttotal: 5m 38s\tremaining: 37.7s\n",
      "90:\tlearn: 2.7475242\ttotal: 5m 42s\tremaining: 33.9s\n",
      "91:\tlearn: 2.7453310\ttotal: 5m 46s\tremaining: 30.1s\n",
      "92:\tlearn: 2.7431270\ttotal: 5m 49s\tremaining: 26.3s\n",
      "93:\tlearn: 2.7402042\ttotal: 5m 53s\tremaining: 22.6s\n",
      "94:\tlearn: 2.7358965\ttotal: 5m 57s\tremaining: 18.8s\n",
      "95:\tlearn: 2.7334145\ttotal: 6m 1s\tremaining: 15s\n",
      "96:\tlearn: 2.7312221\ttotal: 6m 4s\tremaining: 11.3s\n",
      "97:\tlearn: 2.7282405\ttotal: 6m 8s\tremaining: 7.52s\n",
      "98:\tlearn: 2.7247871\ttotal: 6m 12s\tremaining: 3.76s\n",
      "99:\tlearn: 2.7226767\ttotal: 6m 15s\tremaining: 0us\n",
      "Training Accuracy: 0.020127362946492793\n",
      "0.20444444444444446\n",
      "Validation Accuracy: 0.2\n"
     ]
    }
   ],
   "source": [
    "from catboost import CatBoostClassifier\n",
    "model = CatBoostClassifier(iterations=100, depth=5)\n",
    "model.fit(features0, labels_0)\n",
    "train_predictions = model.predict(features0)\n",
    "train_accuracy_5 = np.mean(train_predictions == labels_0) \n",
    "print('Training Accuracy:', train_accuracy_5)\n",
    "y_pred = model.predict(features1)\n",
    "accuracy_5=accuracy_score(labels_1, y_pred)\n",
    "print(accuracy_5)\n",
    "val_preds = model.predict(features2)\n",
    "val_acc_5 = accuracy_score(labels_2, val_preds)\n",
    "print(\"Validation Accuracy:\", val_acc_5)"
   ]
  },
  {
   "cell_type": "code",
   "execution_count": 79,
   "id": "482a844d",
   "metadata": {},
   "outputs": [
    {
     "data": {
      "image/png": "[encoded data removed]",
      "text/plain": [
       "<Figure size 432x288 with 1 Axes>"
      ]
     },
     "metadata": {
      "needs_background": "light"
     },
     "output_type": "display_data"
    }
   ],
   "source": [
    "R=np.array([train_accuracy_1,train_accuracy_3,train_accuracy_5])\n",
    "plt.title('Train Accuracy')\n",
    "plt.plot(labels, R, color='blue', linestyle=\"-\", linewidth=\"2\", markersize=\"16\", marker=\".\",label=\"Train_Acc\")\n",
    "plt.plot(labels, M, color='green', linestyle=\"-\", linewidth=\"2\", markersize=\"16\", marker=\".\",label=\"Val_Acc\")\n",
    "\n",
    "plt.legend()\n",
    "plt.show()"
   ]
  },
  {
   "cell_type": "code",
   "execution_count": 72,
   "id": "3b9bf152",
   "metadata": {},
   "outputs": [
    {
     "name": "stderr",
     "output_type": "stream",
     "text": [
      "No artists with labels found to put in legend.  Note that artists whose label start with an underscore are ignored when legend() is called with no argument.\n"
     ]
    },
    {
     "data": {
      "image/png": "[encoded data removed]",
      "text/plain": [
       "<Figure size 432x288 with 1 Axes>"
      ]
     },
     "metadata": {
      "needs_background": "light"
     },
     "output_type": "display_data"
    }
   ],
   "source": [
    "J=np.array([accuracy_1,accuracy_3,accuracy_5])\n",
    "plt.plot(labels, J, color='red', linestyle=\"-\", linewidth=\"2\", markersize=\"16\", marker=\".\")\n",
    "\n",
    "plt.title('Test Accuracy')\n",
    "\n",
    "plt.show()"
   ]
  },
  {
   "cell_type": "code",
   "execution_count": 75,
   "id": "0ccb77b4",
   "metadata": {},
   "outputs": [
    {
     "name": "stderr",
     "output_type": "stream",
     "text": [
      "No artists with labels found to put in legend.  Note that artists whose label start with an underscore are ignored when legend() is called with no argument.\n"
     ]
    },
    {
     "data": {
      "image/png": "[encoded data removed]",
      "text/plain": [
       "<Figure size 432x288 with 1 Axes>"
      ]
     },
     "metadata": {
      "needs_background": "light"
     },
     "output_type": "display_data"
    }
   ],
   "source": [
    "M=np.array([val_acc_1,val_acc_3,val_acc_5])\n",
    "plt.plot(labels, M, color='green', linestyle=\"-\", linewidth=\"2\", markersize=\"16\", marker=\".\")\n",
    "plt.title('Validation Accuracy')\n",
    "plt.legend()\n",
    "plt.show()"
   ]
  }
 ],
 "metadata": {
  "kernelspec": {
   "display_name": "Python 3 (ipykernel)",
   "language": "python",
   "name": "python3"
  },
  "language_info": {
   "codemirror_mode": {
    "name": "ipython",
    "version": 3
   },
   "file_extension": ".py",
   "mimetype": "text/x-python",
   "name": "python",
   "nbconvert_exporter": "python",
   "pygments_lexer": "ipython3",
   "version": "3.9.12"
  },
  "widgets": {
   "application/vnd.jupyter.widget-state+json": {
    "state": {},
    "version_major": 2,
    "version_minor": 0
   }
  }
 },
 "nbformat": 4,
 "nbformat_minor": 5
}
